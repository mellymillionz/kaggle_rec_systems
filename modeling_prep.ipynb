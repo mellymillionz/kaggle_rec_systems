{
 "cells": [
  {
   "cell_type": "code",
   "execution_count": 2,
   "metadata": {},
   "outputs": [],
   "source": [
    "import numpy as np\n",
    "import scipy\n",
    "import pandas as pd\n",
    "import math\n",
    "import random\n",
    "import sklearn\n",
    "from nltk.corpus import stopwords\n",
    "from scipy.sparse import csr_matrix\n",
    "from sklearn.model_selection import train_test_split\n",
    "from sklearn.feature_extraction.text import TfidfVectorizer\n",
    "from sklearn.metrics.pairwise import cosine_similarity\n",
    "from scipy.sparse.linalg import svds\n",
    "from sklearn.preprocessing import MinMaxScaler\n",
    "import matplotlib.pyplot as plt"
   ]
  },
  {
   "cell_type": "markdown",
   "metadata": {},
   "source": [
    "# Import Data"
   ]
  },
  {
   "cell_type": "code",
   "execution_count": 3,
   "metadata": {},
   "outputs": [],
   "source": [
    "interactions_df = pd.read_csv(\"full_interactions_dataset.csv\")"
   ]
  },
  {
   "cell_type": "code",
   "execution_count": 4,
   "metadata": {},
   "outputs": [
    {
     "name": "stderr",
     "output_type": "stream",
     "text": [
      "/Users/melissamunz/anaconda3/lib/python3.7/site-packages/IPython/core/interactiveshell.py:3057: DtypeWarning: Columns (6,7,8) have mixed types. Specify dtype option on import or set low_memory=False.\n",
      "  interactivity=interactivity, compiler=compiler, result=result)\n"
     ]
    }
   ],
   "source": [
    "df = pd.read_csv(\"full_dataset.csv\")"
   ]
  },
  {
   "cell_type": "code",
   "execution_count": 5,
   "metadata": {},
   "outputs": [
    {
     "data": {
      "text/html": [
       "<div>\n",
       "<style scoped>\n",
       "    .dataframe tbody tr th:only-of-type {\n",
       "        vertical-align: middle;\n",
       "    }\n",
       "\n",
       "    .dataframe tbody tr th {\n",
       "        vertical-align: top;\n",
       "    }\n",
       "\n",
       "    .dataframe thead th {\n",
       "        text-align: right;\n",
       "    }\n",
       "</style>\n",
       "<table border=\"1\" class=\"dataframe\">\n",
       "  <thead>\n",
       "    <tr style=\"text-align: right;\">\n",
       "      <th></th>\n",
       "      <th>Unnamed: 0</th>\n",
       "      <th>timestamp_x</th>\n",
       "      <th>eventType_x</th>\n",
       "      <th>contentId</th>\n",
       "      <th>authorPersonId</th>\n",
       "      <th>authorSessionId</th>\n",
       "      <th>authorUserAgent</th>\n",
       "      <th>authorRegion</th>\n",
       "      <th>authorCountry</th>\n",
       "      <th>contentType</th>\n",
       "      <th>...</th>\n",
       "      <th>text</th>\n",
       "      <th>lang</th>\n",
       "      <th>timestamp_y</th>\n",
       "      <th>eventType_y</th>\n",
       "      <th>personId</th>\n",
       "      <th>sessionId</th>\n",
       "      <th>userAgent</th>\n",
       "      <th>userRegion</th>\n",
       "      <th>userCountry</th>\n",
       "      <th>eventStrength</th>\n",
       "    </tr>\n",
       "  </thead>\n",
       "  <tbody>\n",
       "    <tr>\n",
       "      <th>0</th>\n",
       "      <td>3</td>\n",
       "      <td>1459193988</td>\n",
       "      <td>CONTENT SHARED</td>\n",
       "      <td>-4110354420726924665</td>\n",
       "      <td>4340306774493623681</td>\n",
       "      <td>8940341205206233829</td>\n",
       "      <td>NaN</td>\n",
       "      <td>NaN</td>\n",
       "      <td>NaN</td>\n",
       "      <td>HTML</td>\n",
       "      <td>...</td>\n",
       "      <td>All of this work is still very early. The firs...</td>\n",
       "      <td>en</td>\n",
       "      <td>1459270471</td>\n",
       "      <td>VIEW</td>\n",
       "      <td>2873028073541627603</td>\n",
       "      <td>-3228450896145227905</td>\n",
       "      <td>Mozilla/5.0 (Windows NT 6.1; WOW64) AppleWebKi...</td>\n",
       "      <td>SP</td>\n",
       "      <td>BR</td>\n",
       "      <td>1.0</td>\n",
       "    </tr>\n",
       "    <tr>\n",
       "      <th>1</th>\n",
       "      <td>4</td>\n",
       "      <td>1459194146</td>\n",
       "      <td>CONTENT SHARED</td>\n",
       "      <td>-7292285110016212249</td>\n",
       "      <td>4340306774493623681</td>\n",
       "      <td>8940341205206233829</td>\n",
       "      <td>NaN</td>\n",
       "      <td>NaN</td>\n",
       "      <td>NaN</td>\n",
       "      <td>HTML</td>\n",
       "      <td>...</td>\n",
       "      <td>The alarm clock wakes me at 8:00 with stream o...</td>\n",
       "      <td>en</td>\n",
       "      <td>1459539433</td>\n",
       "      <td>VIEW</td>\n",
       "      <td>8414731042150985013</td>\n",
       "      <td>4543899740167763020</td>\n",
       "      <td>Mozilla/5.0 (Macintosh; Intel Mac OS X 10_11_4...</td>\n",
       "      <td>MG</td>\n",
       "      <td>BR</td>\n",
       "      <td>1.0</td>\n",
       "    </tr>\n",
       "    <tr>\n",
       "      <th>2</th>\n",
       "      <td>5</td>\n",
       "      <td>1459194474</td>\n",
       "      <td>CONTENT SHARED</td>\n",
       "      <td>-6151852268067518688</td>\n",
       "      <td>3891637997717104548</td>\n",
       "      <td>-1457532940883382585</td>\n",
       "      <td>NaN</td>\n",
       "      <td>NaN</td>\n",
       "      <td>NaN</td>\n",
       "      <td>HTML</td>\n",
       "      <td>...</td>\n",
       "      <td>We're excited to share the Google Data Center ...</td>\n",
       "      <td>en</td>\n",
       "      <td>1459476271</td>\n",
       "      <td>VIEW</td>\n",
       "      <td>-7267769888748948232</td>\n",
       "      <td>-1350132153769633851</td>\n",
       "      <td>Android - Native Mobile App</td>\n",
       "      <td>MG</td>\n",
       "      <td>BR</td>\n",
       "      <td>1.0</td>\n",
       "    </tr>\n",
       "    <tr>\n",
       "      <th>3</th>\n",
       "      <td>6</td>\n",
       "      <td>1459194474</td>\n",
       "      <td>CONTENT SHARED</td>\n",
       "      <td>-6151852268067518688</td>\n",
       "      <td>3891637997717104548</td>\n",
       "      <td>-1457532940883382585</td>\n",
       "      <td>NaN</td>\n",
       "      <td>NaN</td>\n",
       "      <td>NaN</td>\n",
       "      <td>HTML</td>\n",
       "      <td>...</td>\n",
       "      <td>We're excited to share the Google Data Center ...</td>\n",
       "      <td>en</td>\n",
       "      <td>1459476266</td>\n",
       "      <td>VIEW</td>\n",
       "      <td>-7267769888748948232</td>\n",
       "      <td>-1350132153769633851</td>\n",
       "      <td>Android - Native Mobile App</td>\n",
       "      <td>MG</td>\n",
       "      <td>BR</td>\n",
       "      <td>1.0</td>\n",
       "    </tr>\n",
       "    <tr>\n",
       "      <th>4</th>\n",
       "      <td>7</td>\n",
       "      <td>1459194474</td>\n",
       "      <td>CONTENT SHARED</td>\n",
       "      <td>-6151852268067518688</td>\n",
       "      <td>3891637997717104548</td>\n",
       "      <td>-1457532940883382585</td>\n",
       "      <td>NaN</td>\n",
       "      <td>NaN</td>\n",
       "      <td>NaN</td>\n",
       "      <td>HTML</td>\n",
       "      <td>...</td>\n",
       "      <td>We're excited to share the Google Data Center ...</td>\n",
       "      <td>en</td>\n",
       "      <td>1459476139</td>\n",
       "      <td>LIKE</td>\n",
       "      <td>-7267769888748948232</td>\n",
       "      <td>-1350132153769633851</td>\n",
       "      <td>NaN</td>\n",
       "      <td>NaN</td>\n",
       "      <td>NaN</td>\n",
       "      <td>2.0</td>\n",
       "    </tr>\n",
       "  </tbody>\n",
       "</table>\n",
       "<p>5 rows × 22 columns</p>\n",
       "</div>"
      ],
      "text/plain": [
       "   Unnamed: 0  timestamp_x     eventType_x            contentId  \\\n",
       "0           3   1459193988  CONTENT SHARED -4110354420726924665   \n",
       "1           4   1459194146  CONTENT SHARED -7292285110016212249   \n",
       "2           5   1459194474  CONTENT SHARED -6151852268067518688   \n",
       "3           6   1459194474  CONTENT SHARED -6151852268067518688   \n",
       "4           7   1459194474  CONTENT SHARED -6151852268067518688   \n",
       "\n",
       "        authorPersonId      authorSessionId authorUserAgent authorRegion  \\\n",
       "0  4340306774493623681  8940341205206233829             NaN          NaN   \n",
       "1  4340306774493623681  8940341205206233829             NaN          NaN   \n",
       "2  3891637997717104548 -1457532940883382585             NaN          NaN   \n",
       "3  3891637997717104548 -1457532940883382585             NaN          NaN   \n",
       "4  3891637997717104548 -1457532940883382585             NaN          NaN   \n",
       "\n",
       "  authorCountry contentType  ...  \\\n",
       "0           NaN        HTML  ...   \n",
       "1           NaN        HTML  ...   \n",
       "2           NaN        HTML  ...   \n",
       "3           NaN        HTML  ...   \n",
       "4           NaN        HTML  ...   \n",
       "\n",
       "                                                text lang timestamp_y  \\\n",
       "0  All of this work is still very early. The firs...   en  1459270471   \n",
       "1  The alarm clock wakes me at 8:00 with stream o...   en  1459539433   \n",
       "2  We're excited to share the Google Data Center ...   en  1459476271   \n",
       "3  We're excited to share the Google Data Center ...   en  1459476266   \n",
       "4  We're excited to share the Google Data Center ...   en  1459476139   \n",
       "\n",
       "  eventType_y             personId            sessionId  \\\n",
       "0        VIEW  2873028073541627603 -3228450896145227905   \n",
       "1        VIEW  8414731042150985013  4543899740167763020   \n",
       "2        VIEW -7267769888748948232 -1350132153769633851   \n",
       "3        VIEW -7267769888748948232 -1350132153769633851   \n",
       "4        LIKE -7267769888748948232 -1350132153769633851   \n",
       "\n",
       "                                           userAgent  userRegion userCountry  \\\n",
       "0  Mozilla/5.0 (Windows NT 6.1; WOW64) AppleWebKi...          SP          BR   \n",
       "1  Mozilla/5.0 (Macintosh; Intel Mac OS X 10_11_4...          MG          BR   \n",
       "2                        Android - Native Mobile App          MG          BR   \n",
       "3                        Android - Native Mobile App          MG          BR   \n",
       "4                                                NaN         NaN         NaN   \n",
       "\n",
       "  eventStrength  \n",
       "0           1.0  \n",
       "1           1.0  \n",
       "2           1.0  \n",
       "3           1.0  \n",
       "4           2.0  \n",
       "\n",
       "[5 rows x 22 columns]"
      ]
     },
     "execution_count": 5,
     "metadata": {},
     "output_type": "execute_result"
    }
   ],
   "source": [
    "df.head()"
   ]
  },
  {
   "cell_type": "markdown",
   "metadata": {},
   "source": [
    "# Split the Data in Test and Train Sets"
   ]
  },
  {
   "cell_type": "code",
   "execution_count": 10,
   "metadata": {},
   "outputs": [],
   "source": [
    "X = None\n",
    "y = None"
   ]
  },
  {
   "cell_type": "code",
   "execution_count": 23,
   "metadata": {},
   "outputs": [],
   "source": [
    "interactions_train, interactions_test = train_test_split(interactions_df, test_size = 0.2, random_state = 42)"
   ]
  },
  {
   "cell_type": "code",
   "execution_count": 24,
   "metadata": {},
   "outputs": [
    {
     "ename": "AttributeError",
     "evalue": "module 'pandas' has no attribute 'to_frame'",
     "output_type": "error",
     "traceback": [
      "\u001b[0;31m---------------------------------------------------------------------------\u001b[0m",
      "\u001b[0;31mAttributeError\u001b[0m                            Traceback (most recent call last)",
      "\u001b[0;32m<ipython-input-24-ec1dd86845dd>\u001b[0m in \u001b[0;36m<module>\u001b[0;34m\u001b[0m\n\u001b[0;32m----> 1\u001b[0;31m \u001b[0minteractions_train_df\u001b[0m \u001b[0;34m=\u001b[0m \u001b[0mpd\u001b[0m\u001b[0;34m.\u001b[0m\u001b[0mto_frame\u001b[0m\u001b[0;34m(\u001b[0m\u001b[0mdata\u001b[0m\u001b[0;34m=\u001b[0m\u001b[0minteractions_train\u001b[0m\u001b[0;34m)\u001b[0m\u001b[0;34m\u001b[0m\u001b[0;34m\u001b[0m\u001b[0m\n\u001b[0m",
      "\u001b[0;31mAttributeError\u001b[0m: module 'pandas' has no attribute 'to_frame'"
     ]
    }
   ],
   "source": [
    "interactions_train_df = pd.to_frame(data=interactions_train)"
   ]
  },
  {
   "cell_type": "code",
   "execution_count": 25,
   "metadata": {},
   "outputs": [
    {
     "name": "stdout",
     "output_type": "stream",
     "text": [
      "Length of the training set is: 31260\n",
      "Length of the testing set is: 7815\n"
     ]
    }
   ],
   "source": [
    "print(f'Length of the training set is: {len(interactions_train)}')\n",
    "print(f'Length of the testing set is: {len(interactions_test)}')"
   ]
  },
  {
   "cell_type": "markdown",
   "metadata": {},
   "source": [
    "# Evaluation"
   ]
  },
  {
   "cell_type": "markdown",
   "metadata": {},
   "source": [
    "In Recommender Systems, there are a set metrics commonly used for evaluation. We chose to work with Top-N accuracy metrics, which evaluates the accuracy of the top recommendations provided to a user, comparing to the items the user has actually interacted in test set."
   ]
  },
  {
   "cell_type": "code",
   "execution_count": 26,
   "metadata": {},
   "outputs": [],
   "source": [
    "#Indexing by person Id to speed up searches\n",
    "\n",
    "indexed_interactions_df = interactions_df.set_index('personId')\n",
    "\n",
    "indexed_interactions_train = interactions_train.set_index('personId')\n",
    "\n",
    "indexed_interactions_test = interactions_test.set_index('personId')"
   ]
  },
  {
   "cell_type": "code",
   "execution_count": 27,
   "metadata": {},
   "outputs": [],
   "source": [
    "#Merge data with movie information\n",
    "\n",
    "def get_interactions(personId, interactions_df):\n",
    "    items = interactions_df.loc[personId]['contentId']\n",
    "    return set(items if type(items) == pd.Series else [items])\n",
    "    "
   ]
  },
  {
   "cell_type": "code",
   "execution_count": null,
   "metadata": {},
   "outputs": [],
   "source": [
    "interacted_items = interactions_df.loc[person_id]['contentId']\n",
    "\n",
    "    return set(interacted_items if type(interacted_items) == pd.Series else [interacted_items])"
   ]
  }
 ],
 "metadata": {
  "kernelspec": {
   "display_name": "Python 3",
   "language": "python",
   "name": "python3"
  },
  "language_info": {
   "codemirror_mode": {
    "name": "ipython",
    "version": 3
   },
   "file_extension": ".py",
   "mimetype": "text/x-python",
   "name": "python",
   "nbconvert_exporter": "python",
   "pygments_lexer": "ipython3",
   "version": "3.7.3"
  }
 },
 "nbformat": 4,
 "nbformat_minor": 2
}
